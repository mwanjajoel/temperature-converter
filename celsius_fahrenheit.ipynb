{
 "cells": [
  {
   "cell_type": "code",
   "execution_count": 5,
   "id": "2ae8d63f-2f65-4721-8cf6-97a6a30556d4",
   "metadata": {},
   "outputs": [],
   "source": [
    "import tensorflow as tf"
   ]
  },
  {
   "cell_type": "markdown",
   "id": "475273bb-ac2c-44c7-9d04-f0d0c726fb3b",
   "metadata": {},
   "source": [
    "We then import numpy but tell tensorflow to only log errors"
   ]
  },
  {
   "cell_type": "code",
   "execution_count": 6,
   "id": "287472cc-4d68-479e-9a96-1da1b8002ac1",
   "metadata": {},
   "outputs": [],
   "source": [
    "import numpy as np\n",
    "import logging\n",
    "\n",
    "logger = tf.get_logger()\n",
    "logger.setLevel(logging.ERROR)"
   ]
  },
  {
   "cell_type": "markdown",
   "id": "5caddbf3-b3a3-46a5-a42c-710b7677431f",
   "metadata": {},
   "source": [
    "# Setup Training Data \n",
    "As we saw before, supervised Machine Learning is all about figuring out an algorithm given a set of inputs and outputs. \n",
    "Since the task in this notebook is to create a model that can give the temperature in Fahrenheit when given the degrees in Celsius, we create two lists *celsius_q* and *fahrenheit_a* that we can use to train our model."
   ]
  },
  {
   "cell_type": "code",
   "execution_count": 7,
   "id": "06c3278a-c361-4dff-a400-2016b49c3e01",
   "metadata": {},
   "outputs": [
    {
     "name": "stdout",
     "output_type": "stream",
     "text": [
      "-40.0 degrees Celsius = -40.0 degrees Fahreinheit\n",
      "-10.0 degrees Celsius = 14.0 degrees Fahreinheit\n",
      "0.0 degrees Celsius = 32.0 degrees Fahreinheit\n",
      "8.0 degrees Celsius = 46.0 degrees Fahreinheit\n",
      "15.0 degrees Celsius = 59.0 degrees Fahreinheit\n",
      "22.0 degrees Celsius = 72.0 degrees Fahreinheit\n",
      "38.0 degrees Celsius = 100.0 degrees Fahreinheit\n"
     ]
    }
   ],
   "source": [
    "celsius_q     = np.array([-40, -10, 0, 8, 15, 22, 38], dtype=float)\n",
    "fahreinheit_a = np.array([-40, 14, 32, 46, 59, 72, 100], dtype=float)\n",
    "\n",
    "for i,c in enumerate(celsius_q):\n",
    "    print(\"{} degrees Celsius = {} degrees Fahreinheit\".format(c, fahreinheit_a[i]))"
   ]
  },
  {
   "cell_type": "markdown",
   "id": "f12b4a48-f910-4650-8b56-39f918795576",
   "metadata": {},
   "source": [
    "# Some Machine Learning terminology\n",
    "\n",
    "- ## Feature\n",
    "Input(s) of a model. In this case, a single value - the degrees in Celsius\n",
    "\n",
    "- ## Labels\n",
    "Output(s) of a model. In this case, a single value - the degrees in Fahnreinheit\n"
   ]
  },
  {
   "cell_type": "markdown",
   "id": "42cf1d38-0f73-413b-81cc-d65c8b17b374",
   "metadata": {},
   "source": [
    "## Create the model\n",
    "\n",
    "Next, create the model. We will use the simplest possible model we can which is a Dense network. \n",
    "Since the problem is straightforward, this network will require only a single layer, with a single neuron.\n",
    "\n",
    "### Build a layer\n",
    "\n",
    "We'll call the layer `l0` and create it by instantiating `tf.keras.layers.Dense` with the following configuration:\n",
    "\n",
    "*   `input_shape=[1]` — This specifies that the input to this layer is a single value. That is, the shape is a one-dimensional array with one member. Since this is the first (and only) layer, that input shape is the input shape of the entire model. The single value is a floating point number, representing degrees Celsius.\n",
    "\n",
    "*   `units=1` — This specifies the number of neurons in the layer. The number of neurons defines how many internal variables the layer has to try to learn how to solve the problem (more later). Since this is the final layer, it is also the size of the model's output — a single float value representing degrees Fahrenheit. (In a multi-layered network, the size and shape of the layer would need to match the `input_shape` of the next layer.)"
   ]
  },
  {
   "cell_type": "code",
   "execution_count": 10,
   "id": "305e411d-1cc1-4d9a-816d-e5f3f28c6fee",
   "metadata": {},
   "outputs": [],
   "source": [
    "l0 = tf.keras.layers.Dense(units=1, input_shape=[1])"
   ]
  },
  {
   "cell_type": "markdown",
   "id": "fd263ef2-58ad-48ea-9674-9455e21f0660",
   "metadata": {},
   "source": [
    "### Assemble layers into the model\n",
    "\n",
    "Once layers are defined, they need to be assembled into a model. The Sequential model definition takes a list of layers as an argument, specifying the calculation order from the input to the output.\n",
    "\n",
    "This model has just a single layer, l0."
   ]
  },
  {
   "cell_type": "code",
   "execution_count": 11,
   "id": "652f523a-b8ce-4a3f-b5c8-959db52f802f",
   "metadata": {},
   "outputs": [],
   "source": [
    "model = tf.keras.Sequential([l0])"
   ]
  },
  {
   "cell_type": "markdown",
   "id": "bf3891eb-a248-4e60-a606-2f3b8b5fcb1b",
   "metadata": {},
   "source": [
    "**Note**\n",
    "\n",
    "You will often see the layers defined inside the model definition, rather than beforehand:\n",
    "\n",
    "```python\n",
    "model = tf.keras.Sequential([\n",
    "  tf.keras.layers.Dense(units=1, input_shape=[1])\n",
    "])\n",
    "```"
   ]
  },
  {
   "cell_type": "markdown",
   "id": "1574fe68-99ef-4310-927a-d9629620133c",
   "metadata": {},
   "source": [
    "## Compile the model, with loss and optimizer functions\n",
    "\n",
    "Before training, the model has to be compiled. When compiled for training, the model is given:\n",
    "\n",
    "- **Loss function** — A way of measuring how far off predictions are from the desired outcome. (The measured difference is called the \"loss\".)\n",
    "\n",
    "- **Optimizer function** — A way of adjusting internal values in order to reduce the loss."
   ]
  },
  {
   "cell_type": "code",
   "execution_count": 12,
   "id": "ba8f87ca-3821-4633-824f-96fc8c2875a1",
   "metadata": {},
   "outputs": [],
   "source": [
    "model.compile(loss='mean_squared_error', optimizer=tf.keras.optimizers.Adam(0.1))"
   ]
  },
  {
   "cell_type": "markdown",
   "id": "046ccfce-b510-4ec1-9c56-6ed454c2b9d9",
   "metadata": {},
   "source": [
    "These are used during training (`model.fit()`, below) to first calculate the loss at each point, and then improve it. In fact, the act of calculating the current loss of a model and then improving it is precisely what training is.\n",
    "\n",
    "During training, the optimizer function is used to calculate adjustments to the model's internal variables. The goal is to adjust the internal variables until the model (which is really a math function) mirrors the actual equation for converting Celsius to Fahrenheit.\n",
    "\n",
    "TensorFlow uses numerical analysis to perform this tuning, and all this complexity is hidden from you so we will not go into the details here. What is useful to know about these parameters are:\n",
    "\n",
    "The loss function ([mean squared error](https://en.wikipedia.org/wiki/Mean_squared_error)) and the optimizer ([Adam](https://machinelearningmastery.com/adam-optimization-algorithm-for-deep-learning/)) used here are standard for simple models like this one, but many others are available. It is not important to know how these specific functions work at this point.\n",
    "\n",
    "One part of the Optimizer you may need to think about when building your own models is the learning rate (`0.1` in the code above). This is the step size taken when adjusting values in the model. If the value is too small, it will take too many iterations to train the model. Too large, and accuracy goes down. Finding a good value often involves some trial and error, but the range is usually within 0.001 (default), and 0.1"
   ]
  },
  {
   "cell_type": "markdown",
   "id": "f67c855e-f9d2-42ca-ae79-3af43809d0e3",
   "metadata": {},
   "source": [
    "## Train the model\n",
    "\n",
    "Train the model by calling the `fit` method.\n",
    "\n",
    "During training, the model takes in Celsius values, performs a calculation using the current internal variables (called \"weights\") and outputs values which are meant to be the Fahrenheit equivalent. Since the weights are initially set randomly, the output will not be close to the correct value. The difference between the actual output and the desired output is calculated using the loss function, and the optimizer function directs how the weights should be adjusted.\n",
    "\n",
    "This cycle of calculate, compare, adjust is controlled by the `fit` method. The first argument is the inputs, the second argument is the desired outputs. The `epochs` argument specifies how many times this cycle should be run, and the `verbose` argument controls how much output the method produces."
   ]
  },
  {
   "cell_type": "code",
   "execution_count": 13,
   "id": "85e1b0b2-c5f4-4ee8-89a8-86be70e74d42",
   "metadata": {},
   "outputs": [
    {
     "name": "stdout",
     "output_type": "stream",
     "text": [
      "Model training is done!\n"
     ]
    }
   ],
   "source": [
    "history = model.fit(celsius_q, fahreinheit_a, epochs=500, verbose=False)\n",
    "print(\"Model training is done!\")"
   ]
  },
  {
   "cell_type": "markdown",
   "id": "a29263c2-033e-4318-afc3-f2d4b953dbd5",
   "metadata": {},
   "source": [
    "## Display training statistics\n",
    "\n",
    "The `fit` method returns a history object. We can use this object to plot how the loss of our model goes down after each training epoch. A high loss means that the Fahrenheit degrees the model predicts is far from the corresponding value in `fahrenheit_a`.\n",
    "\n",
    "We'll use [Matplotlib](https://matplotlib.org/) to visualize this (you could use another tool). As you can see, our model improves very quickly at first, and then has a steady, slow improvement until it is very near \"perfect\" towards the end."
   ]
  },
  {
   "cell_type": "code",
   "execution_count": 16,
   "id": "0058da0e-31c2-4b96-96d2-93ac9fd49a12",
   "metadata": {},
   "outputs": [
    {
     "data": {
      "text/plain": [
       "[<matplotlib.lines.Line2D at 0x15291f590>]"
      ]
     },
     "execution_count": 16,
     "metadata": {},
     "output_type": "execute_result"
    },
    {
     "data": {
      "image/png": "[encoded data removed]",
      "text/plain": [
       "<Figure size 432x288 with 1 Axes>"
      ]
     },
     "metadata": {
      "needs_background": "light"
     },
     "output_type": "display_data"
    }
   ],
   "source": [
    "import matplotlib.pyplot as plt\n",
    "plt.xlabel('Epoch Number')\n",
    "plt.ylabel('Loss Magnitude')\n",
    "plt.plot(history.history['loss'])"
   ]
  },
  {
   "cell_type": "markdown",
   "id": "a0777e3d-39c2-4af1-95f9-4a5d7a3e0862",
   "metadata": {},
   "source": [
    "## Use the model to predict values\n",
    "\n",
    "Now you have a model that has been trained to learn the relationship between `celsius_q` and `fahrenheit_a`. You can use the predict method to have it calculate the Fahrenheit degrees for a previously unknown Celsius degrees.\n",
    "\n",
    "So, for example, if the Celsius value is 120, what do you think the Fahrenheit result will be? Take a guess before you run this code."
   ]
  },
  {
   "cell_type": "code",
   "execution_count": 17,
   "id": "b4a79aa3-27da-4390-b628-64acbcd37eb7",
   "metadata": {},
   "outputs": [
    {
     "name": "stdout",
     "output_type": "stream",
     "text": [
      "[[247.80373]]\n"
     ]
    }
   ],
   "source": [
    "print(model.predict([120.0]))"
   ]
  },
  {
   "cell_type": "code",
   "execution_count": null,
   "id": "2c33eee4-70bc-4e39-b97d-238fc398f6c6",
   "metadata": {},
   "outputs": [],
   "source": []
  }
 ],
 "metadata": {
  "kernelspec": {
   "display_name": "venv",
   "language": "python",
   "name": "venv"
  },
  "language_info": {
   "codemirror_mode": {
    "name": "ipython",
    "version": 3
   },
   "file_extension": ".py",
   "mimetype": "text/x-python",
   "name": "python",
   "nbconvert_exporter": "python",
   "pygments_lexer": "ipython3",
   "version": "3.7.4"
  }
 },
 "nbformat": 4,
 "nbformat_minor": 5
}
